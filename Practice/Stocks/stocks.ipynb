{
  "nbformat": 4,
  "nbformat_minor": 0,
  "metadata": {
    "colab": {
      "name": "stocks.ipynb",
      "version": "0.3.2",
      "provenance": [],
      "include_colab_link": true
    },
    "kernelspec": {
      "name": "python3",
      "display_name": "Python 3"
    }
  },
  "cells": [
    {
      "cell_type": "markdown",
      "metadata": {
        "id": "view-in-github",
        "colab_type": "text"
      },
      "source": [
        "<a href=\"https://colab.research.google.com/github/RufaidahOmar/Balanced-Dataset-Classification/blob/master/stocks.ipynb\" target=\"_parent\"><img src=\"https://colab.research.google.com/assets/colab-badge.svg\" alt=\"Open In Colab\"/></a>"
      ]
    },
    {
      "cell_type": "code",
      "metadata": {
        "id": "-E5BdY0raiJi",
        "colab_type": "code",
        "colab": {
          "resources": {
            "http://localhost:8080/nbextensions/google.colab/files.js": {
              "data": "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",
              "ok": true,
              "headers": [
                [
                  "content-type",
                  "application/javascript"
                ]
              ],
              "status": 200,
              "status_text": ""
            }
          },
          "base_uri": "https://localhost:8080/",
          "height": 75
        },
        "outputId": "b7f44e6d-c08a-4366-853a-dbd59541df49"
      },
      "source": [
        "# Load libraries\n",
        "import pandas as pd\n",
        "import io\n",
        "from pandas.plotting import scatter_matrix\n",
        "import matplotlib.pyplot as plt\n",
        "from sklearn import model_selection\n",
        "from sklearn.metrics import classification_report\n",
        "from sklearn.metrics import confusion_matrix\n",
        "from sklearn.metrics import accuracy_score\n",
        "from sklearn.linear_model import LogisticRegression\n",
        "from sklearn.tree import DecisionTreeClassifier\n",
        "from sklearn.neighbors import KNeighborsClassifier\n",
        "from sklearn.discriminant_analysis import LinearDiscriminantAnalysis\n",
        "from sklearn.naive_bayes import GaussianNB\n",
        "from sklearn.svm import SVC\n",
        "\n",
        "from google.colab import files\n",
        "uploaded = files.upload()\n"
      ],
      "execution_count": 1,
      "outputs": [
        {
          "output_type": "display_data",
          "data": {
            "text/html": [
              "\n",
              "     <input type=\"file\" id=\"files-9d93117d-23da-4911-a604-8e115d75e7c1\" name=\"files[]\" multiple disabled />\n",
              "     <output id=\"result-9d93117d-23da-4911-a604-8e115d75e7c1\">\n",
              "      Upload widget is only available when the cell has been executed in the\n",
              "      current browser session. Please rerun this cell to enable.\n",
              "      </output>\n",
              "      <script src=\"/nbextensions/google.colab/files.js\"></script> "
            ],
            "text/plain": [
              "<IPython.core.display.HTML object>"
            ]
          },
          "metadata": {
            "tags": []
          }
        },
        {
          "output_type": "stream",
          "text": [
            "Saving AAXclose.csv to AAXclose.csv\n"
          ],
          "name": "stdout"
        }
      ]
    },
    {
      "cell_type": "code",
      "metadata": {
        "id": "fmmAKr-taxSq",
        "colab_type": "code",
        "colab": {}
      },
      "source": [
        "dataset = pd.read_csv(io.BytesIO(uploaded['AAXclose.csv']))\n",
        "dataset = dataset.drop([])"
      ],
      "execution_count": 0,
      "outputs": []
    },
    {
      "cell_type": "code",
      "metadata": {
        "id": "FzY9DsqXa9Yy",
        "colab_type": "code",
        "colab": {
          "base_uri": "https://localhost:8080/",
          "height": 459
        },
        "outputId": "99a7a099-576e-4048-b5b4-73831f3d6fcb"
      },
      "source": [
        "print(\"Dataset shape: {}\".format(dataset.shape))\n",
        "\n",
        "# head\n",
        "print(\"\\n Preview first 5 rows in dataset\")\n",
        "print(dataset.head())\n",
        "\n",
        "# descriptions\n",
        "print(\"\\n Dataset Description\")\n",
        "print(dataset.describe())\n",
        "\n",
        "# class distribution\n",
        "print(\"\\n Class Distibution\")\n",
        "print(dataset.groupby(' status').size())"
      ],
      "execution_count": 3,
      "outputs": [
        {
          "output_type": "stream",
          "text": [
            "Dataset shape: (1198, 3)\n",
            "\n",
            " Preview first 5 rows in dataset\n",
            "    open   close   status\n",
            "0  0.225   0.225        1\n",
            "1  0.225   0.225        0\n",
            "2  0.230   0.225        0\n",
            "3  0.225   0.230        0\n",
            "4  0.230   0.230        0\n",
            "\n",
            " Dataset Description\n",
            "              open        close       status\n",
            "count  1198.000000  1198.000000  1198.000000\n",
            "mean      0.352990     0.352419     0.114357\n",
            "std       0.098297     0.098183     0.318378\n",
            "min       0.155000     0.150000     0.000000\n",
            "25%       0.266250     0.265000     0.000000\n",
            "50%       0.375000     0.375000     0.000000\n",
            "75%       0.405000     0.400000     0.000000\n",
            "max       0.597100     0.597100     1.000000\n",
            "\n",
            " Class Distibution\n",
            " status\n",
            "0    1061\n",
            "1     137\n",
            "dtype: int64\n"
          ],
          "name": "stdout"
        }
      ]
    },
    {
      "cell_type": "code",
      "metadata": {
        "id": "5Alnpw7qbAeX",
        "colab_type": "code",
        "colab": {
          "base_uri": "https://localhost:8080/",
          "height": 583
        },
        "outputId": "040ea920-9bad-4cc2-c481-fea278d5071b"
      },
      "source": [
        "print(\"\\n Dataset Visualization\")\n",
        "# histograms\n",
        "dataset.hist()\n",
        "plt.show()\n",
        "\n",
        "# scatter plot matrix\n",
        "scatter_matrix(dataset)\n",
        "plt.show()"
      ],
      "execution_count": 4,
      "outputs": [
        {
          "output_type": "stream",
          "text": [
            "\n",
            " Dataset Visualization\n"
          ],
          "name": "stdout"
        },
        {
          "output_type": "display_data",
          "data": {
            "image/png": "[encoded data removed]",
            "text/plain": [
              "<Figure size 432x288 with 4 Axes>"
            ]
          },
          "metadata": {
            "tags": []
          }
        },
        {
          "output_type": "display_data",
          "data": {
            "image/png": "[encoded data removed]",
            "text/plain": [
              "<Figure size 432x288 with 9 Axes>"
            ]
          },
          "metadata": {
            "tags": []
          }
        }
      ]
    },
    {
      "cell_type": "code",
      "metadata": {
        "id": "46zqRwS_bFx-",
        "colab_type": "code",
        "colab": {
          "base_uri": "https://localhost:8080/",
          "height": 68
        },
        "outputId": "59626040-d91d-4968-ef51-7c6927d76ac7"
      },
      "source": [
        "# Split-out validation dataset\n",
        "array = dataset.values\n",
        "X = array[:,0:2]\n",
        "Y = array[:,2]\n",
        "validation_size = 0.20\n",
        "seed = 7\n",
        "X_train, X_validation, Y_train, Y_validation = model_selection.train_test_split(X, Y, test_size=validation_size, random_state=seed)\n",
        "\n",
        "print(\"\\nThere are {} data for training \".format(len(X_train)))\n",
        "print (\"There are {} data for validation\".format(len(X_validation)))"
      ],
      "execution_count": 5,
      "outputs": [
        {
          "output_type": "stream",
          "text": [
            "\n",
            "There are 958 data for training \n",
            "There are 240 data for validation\n"
          ],
          "name": "stdout"
        }
      ]
    },
    {
      "cell_type": "code",
      "metadata": {
        "id": "zIHusXCrbI_S",
        "colab_type": "code",
        "colab": {
          "base_uri": "https://localhost:8080/",
          "height": 153
        },
        "outputId": "8deaaf30-3094-4e8e-cf17-7d32246d11de"
      },
      "source": [
        "# Test options and evaluation metric\n",
        "seed = 7\n",
        "scoring = 'accuracy'\n",
        "\n",
        "# Spot Check Algorithms\n",
        "models = []\n",
        "models.append(('LR', LogisticRegression(solver='liblinear', multi_class='ovr')))\n",
        "models.append(('LDA', LinearDiscriminantAnalysis()))\n",
        "models.append(('KNN', KNeighborsClassifier()))\n",
        "models.append(('CART', DecisionTreeClassifier()))\n",
        "models.append(('NB', GaussianNB()))\n",
        "models.append(('SVM', SVC(gamma='auto')))\n",
        "# evaluate each model in turn\n",
        "results = []\n",
        "names = []\n",
        "print(\"\\nAccuracy of model by 10-fold cross validation\")\n",
        "for name, model in models:\n",
        "\tkfold = model_selection.KFold(n_splits=10, random_state=seed)\n",
        "\tcv_results = model_selection.cross_val_score(model, X_train, Y_train, cv=kfold, scoring=scoring)\n",
        "\tresults.append(cv_results)\n",
        "\tnames.append(name)\n",
        "\tmsg = \"{}: {} ({})\" .format(name, cv_results.mean(), cv_results.std())\n",
        "\tprint(msg)"
      ],
      "execution_count": 6,
      "outputs": [
        {
          "output_type": "stream",
          "text": [
            "\n",
            "Accuracy of model by 10-fold cross validation\n",
            "LR: 0.8882675438596491 (0.02737932229193955)\n",
            "LDA: 0.8882675438596491 (0.02737932229193955)\n",
            "KNN: 0.8851425438596492 (0.023017711947296245)\n",
            "CART: 0.8632236842105264 (0.028679448609507795)\n",
            "NB: 0.8882675438596491 (0.02737932229193955)\n",
            "SVM: 0.8882675438596491 (0.02737932229193955)\n"
          ],
          "name": "stdout"
        }
      ]
    },
    {
      "cell_type": "code",
      "metadata": {
        "id": "MptxnRvIbMmn",
        "colab_type": "code",
        "colab": {
          "base_uri": "https://localhost:8080/",
          "height": 833
        },
        "outputId": "1856dcb7-281e-4b21-d5aa-e5f2ba2eee17"
      },
      "source": [
        "# Make predictions by KNN\n",
        "knn = KNeighborsClassifier()\n",
        "knn.fit(X_train, Y_train)\n",
        "predictions = knn.predict(X_validation)\n",
        "\n",
        "print('\\nKNN')\n",
        "print(\"Accuracy score : {}\".format(accuracy_score(Y_validation, predictions)))\n",
        "print(\"Confusion Matrix \")\n",
        "print(confusion_matrix(Y_validation, predictions))\n",
        "print(\"Report\")\n",
        "print(classification_report(Y_validation, predictions))  \n",
        "\n",
        "print(\"Wrongly classified\")\n",
        "for j in range(len(X_validation)):\n",
        "  if Y_validation[j] != predictions[j]:\n",
        "    print(\"{}     : {}         : ({})\".format(X_validation[j], Y_validation[j], predictions[j]))"
      ],
      "execution_count": 14,
      "outputs": [
        {
          "output_type": "stream",
          "text": [
            "\n",
            "KNN\n",
            "Accuracy score : 0.8708333333333333\n",
            "Confusion Matrix \n",
            "[[209   1]\n",
            " [ 30   0]]\n",
            "Report\n",
            "              precision    recall  f1-score   support\n",
            "\n",
            "         0.0       0.87      1.00      0.93       210\n",
            "         1.0       0.00      0.00      0.00        30\n",
            "\n",
            "   micro avg       0.87      0.87      0.87       240\n",
            "   macro avg       0.44      0.50      0.47       240\n",
            "weighted avg       0.77      0.87      0.81       240\n",
            "\n",
            "Wrongly classified\n",
            "[0.4857 0.4743]     : 1.0         : (0.0)\n",
            "[0.345 0.34 ]     : 1.0         : (0.0)\n",
            "[0.35 0.35]     : 1.0         : (0.0)\n",
            "[0.385 0.375]     : 1.0         : (0.0)\n",
            "[0.32   0.3114]     : 1.0         : (0.0)\n",
            "[0.195 0.195]     : 1.0         : (0.0)\n",
            "[0.21 0.21]     : 1.0         : (0.0)\n",
            "[0.36  0.355]     : 1.0         : (0.0)\n",
            "[0.25  0.265]     : 1.0         : (0.0)\n",
            "[0.365 0.37 ]     : 1.0         : (0.0)\n",
            "[0.235 0.23 ]     : 1.0         : (0.0)\n",
            "[0.47 0.46]     : 1.0         : (0.0)\n",
            "[0.365 0.365]     : 1.0         : (0.0)\n",
            "[0.365 0.355]     : 1.0         : (0.0)\n",
            "[0.405 0.46 ]     : 1.0         : (0.0)\n",
            "[0.255 0.26 ]     : 1.0         : (0.0)\n",
            "[0.3714 0.3743]     : 1.0         : (0.0)\n",
            "[0.37 0.37]     : 1.0         : (0.0)\n",
            "[0.4629 0.46  ]     : 1.0         : (0.0)\n",
            "[0.365 0.36 ]     : 1.0         : (0.0)\n",
            "[0.4486 0.4543]     : 1.0         : (0.0)\n",
            "[0.5314 0.5257]     : 0.0         : (1.0)\n",
            "[0.38  0.375]     : 1.0         : (0.0)\n",
            "[0.38  0.375]     : 1.0         : (0.0)\n",
            "[0.165 0.17 ]     : 1.0         : (0.0)\n",
            "[0.41  0.405]     : 1.0         : (0.0)\n",
            "[0.39 0.39]     : 1.0         : (0.0)\n",
            "[0.155 0.15 ]     : 1.0         : (0.0)\n",
            "[0.29 0.29]     : 1.0         : (0.0)\n",
            "[0.405 0.41 ]     : 1.0         : (0.0)\n",
            "[0.405 0.405]     : 1.0         : (0.0)\n"
          ],
          "name": "stdout"
        }
      ]
    },
    {
      "cell_type": "code",
      "metadata": {
        "id": "knvk3347bPs6",
        "colab_type": "code",
        "colab": {
          "base_uri": "https://localhost:8080/",
          "height": 875
        },
        "outputId": "0cc97f8c-e7a7-496a-a994-ed2b5b8fc377"
      },
      "source": [
        "# Make prediction using LR\n",
        "lr = LogisticRegression(solver='liblinear', multi_class='ovr')\n",
        "lr.fit(X_train, Y_train)\n",
        "predictions = lr.predict(X_validation)\n",
        "\n",
        "print('\\nLogistic Regression')\n",
        "print(\"Accuracy score : {}\".format(accuracy_score(Y_validation, predictions)))\n",
        "print(\"Confusion Matrix \")\n",
        "print(confusion_matrix(Y_validation, predictions))\n",
        "print(\"Report\")\n",
        "print(classification_report(Y_validation, predictions))\n",
        "\n",
        "print(\"Wrongly classified\")  \n",
        "for j in range(len(X_validation)):\n",
        "  if Y_validation[j] != predictions[j]:\n",
        "    print(\"{} : {}  : ({})\".format(X_validation[j], Y_validation[j], predictions[j]))"
      ],
      "execution_count": 12,
      "outputs": [
        {
          "output_type": "stream",
          "text": [
            "\n",
            "Logistic Regression\n",
            "Accuracy score : 0.875\n",
            "Confusion Matrix \n",
            "[[210   0]\n",
            " [ 30   0]]\n",
            "Report\n",
            "              precision    recall  f1-score   support\n",
            "\n",
            "         0.0       0.88      1.00      0.93       210\n",
            "         1.0       0.00      0.00      0.00        30\n",
            "\n",
            "   micro avg       0.88      0.88      0.88       240\n",
            "   macro avg       0.44      0.50      0.47       240\n",
            "weighted avg       0.77      0.88      0.82       240\n",
            "\n",
            "Wrongly classified\n",
            "[0.4857 0.4743] : 1.0  : (0.0)\n",
            "[0.345 0.34 ] : 1.0  : (0.0)\n",
            "[0.35 0.35] : 1.0  : (0.0)\n",
            "[0.385 0.375] : 1.0  : (0.0)\n",
            "[0.32   0.3114] : 1.0  : (0.0)\n",
            "[0.195 0.195] : 1.0  : (0.0)\n",
            "[0.21 0.21] : 1.0  : (0.0)\n",
            "[0.36  0.355] : 1.0  : (0.0)\n",
            "[0.25  0.265] : 1.0  : (0.0)\n",
            "[0.365 0.37 ] : 1.0  : (0.0)\n",
            "[0.235 0.23 ] : 1.0  : (0.0)\n",
            "[0.47 0.46] : 1.0  : (0.0)\n",
            "[0.365 0.365] : 1.0  : (0.0)\n",
            "[0.365 0.355] : 1.0  : (0.0)\n",
            "[0.405 0.46 ] : 1.0  : (0.0)\n",
            "[0.255 0.26 ] : 1.0  : (0.0)\n",
            "[0.3714 0.3743] : 1.0  : (0.0)\n",
            "[0.37 0.37] : 1.0  : (0.0)\n",
            "[0.4629 0.46  ] : 1.0  : (0.0)\n",
            "[0.365 0.36 ] : 1.0  : (0.0)\n",
            "[0.4486 0.4543] : 1.0  : (0.0)\n",
            "[0.38  0.375] : 1.0  : (0.0)\n",
            "[0.38  0.375] : 1.0  : (0.0)\n",
            "[0.165 0.17 ] : 1.0  : (0.0)\n",
            "[0.41  0.405] : 1.0  : (0.0)\n",
            "[0.39 0.39] : 1.0  : (0.0)\n",
            "[0.155 0.15 ] : 1.0  : (0.0)\n",
            "[0.29 0.29] : 1.0  : (0.0)\n",
            "[0.405 0.41 ] : 1.0  : (0.0)\n",
            "[0.405 0.405] : 1.0  : (0.0)\n"
          ],
          "name": "stdout"
        },
        {
          "output_type": "stream",
          "text": [
            "/usr/local/lib/python3.6/dist-packages/sklearn/metrics/classification.py:1143: UndefinedMetricWarning: Precision and F-score are ill-defined and being set to 0.0 in labels with no predicted samples.\n",
            "  'precision', 'predicted', average, warn_for)\n"
          ],
          "name": "stderr"
        }
      ]
    },
    {
      "cell_type": "code",
      "metadata": {
        "id": "AzLsqKxTbjSk",
        "colab_type": "code",
        "colab": {
          "base_uri": "https://localhost:8080/",
          "height": 875
        },
        "outputId": "9bc2fd52-2eb5-4436-b6cc-887550ca5b51"
      },
      "source": [
        "# Make predictions by LDA\n",
        "lda = LinearDiscriminantAnalysis()\n",
        "lda.fit(X_train, Y_train)\n",
        "predictions = lda.predict(X_validation)\n",
        "\n",
        "print('\\nLDA')\n",
        "print(\"Accuracy score : {}\" .format(accuracy_score(Y_validation, predictions)))\n",
        "print(\"Confusion Matrix \")\n",
        "print(confusion_matrix(Y_validation, predictions))\n",
        "print(\"Report\")\n",
        "print(classification_report(Y_validation, predictions))\n",
        "\n",
        "print(\"Wrongly classified\")\n",
        "for j in range(len(X_validation)):\n",
        "  if Y_validation[j] != predictions[j]:\n",
        "    print(\"{} : {}      : ({})\".format(X_validation[j], Y_validation[j], predictions[j]))"
      ],
      "execution_count": 13,
      "outputs": [
        {
          "output_type": "stream",
          "text": [
            "\n",
            "LDA\n",
            "Accuracy score : 0.875\n",
            "Confusion Matrix \n",
            "[[210   0]\n",
            " [ 30   0]]\n",
            "Report\n",
            "              precision    recall  f1-score   support\n",
            "\n",
            "         0.0       0.88      1.00      0.93       210\n",
            "         1.0       0.00      0.00      0.00        30\n",
            "\n",
            "   micro avg       0.88      0.88      0.88       240\n",
            "   macro avg       0.44      0.50      0.47       240\n",
            "weighted avg       0.77      0.88      0.82       240\n",
            "\n",
            "Wrongly classified\n",
            "[0.4857 0.4743] : 1.0      : (0.0)\n",
            "[0.345 0.34 ] : 1.0      : (0.0)\n",
            "[0.35 0.35] : 1.0      : (0.0)\n",
            "[0.385 0.375] : 1.0      : (0.0)\n",
            "[0.32   0.3114] : 1.0      : (0.0)\n",
            "[0.195 0.195] : 1.0      : (0.0)\n",
            "[0.21 0.21] : 1.0      : (0.0)\n",
            "[0.36  0.355] : 1.0      : (0.0)\n",
            "[0.25  0.265] : 1.0      : (0.0)\n",
            "[0.365 0.37 ] : 1.0      : (0.0)\n",
            "[0.235 0.23 ] : 1.0      : (0.0)\n",
            "[0.47 0.46] : 1.0      : (0.0)\n",
            "[0.365 0.365] : 1.0      : (0.0)\n",
            "[0.365 0.355] : 1.0      : (0.0)\n",
            "[0.405 0.46 ] : 1.0      : (0.0)\n",
            "[0.255 0.26 ] : 1.0      : (0.0)\n",
            "[0.3714 0.3743] : 1.0      : (0.0)\n",
            "[0.37 0.37] : 1.0      : (0.0)\n",
            "[0.4629 0.46  ] : 1.0      : (0.0)\n",
            "[0.365 0.36 ] : 1.0      : (0.0)\n",
            "[0.4486 0.4543] : 1.0      : (0.0)\n",
            "[0.38  0.375] : 1.0      : (0.0)\n",
            "[0.38  0.375] : 1.0      : (0.0)\n",
            "[0.165 0.17 ] : 1.0      : (0.0)\n",
            "[0.41  0.405] : 1.0      : (0.0)\n",
            "[0.39 0.39] : 1.0      : (0.0)\n",
            "[0.155 0.15 ] : 1.0      : (0.0)\n",
            "[0.29 0.29] : 1.0      : (0.0)\n",
            "[0.405 0.41 ] : 1.0      : (0.0)\n",
            "[0.405 0.405] : 1.0      : (0.0)\n"
          ],
          "name": "stdout"
        },
        {
          "output_type": "stream",
          "text": [
            "/usr/local/lib/python3.6/dist-packages/sklearn/metrics/classification.py:1143: UndefinedMetricWarning: Precision and F-score are ill-defined and being set to 0.0 in labels with no predicted samples.\n",
            "  'precision', 'predicted', average, warn_for)\n"
          ],
          "name": "stderr"
        }
      ]
    },
    {
      "cell_type": "code",
      "metadata": {
        "id": "R0gr68Qgbm0-",
        "colab_type": "code",
        "colab": {
          "base_uri": "https://localhost:8080/",
          "height": 986
        },
        "outputId": "442878a5-6cd4-46ab-8aa2-eeff2edb918d"
      },
      "source": [
        "# Make predictions by Decision Tree\n",
        "dt = DecisionTreeClassifier()\n",
        "dt.fit(X_train, Y_train)\n",
        "predictions = dt.predict(X_validation)\n",
        "\n",
        "print('\\nDecision Tree')\n",
        "print(\"Accuracy score : {}\".format(accuracy_score(Y_validation, predictions)))\n",
        "print(\"Confusion Matrix \")\n",
        "print(confusion_matrix(Y_validation, predictions))\n",
        "print(\"Report\")\n",
        "print(classification_report(Y_validation, predictions))\n",
        "\n",
        "print(\"Wrongly classified\")\n",
        "for j in range(len(X_validation)):\n",
        "  if Y_validation[j] != predictions[j]:\n",
        "    print(\"{} : {}      : ({})\".format(X_validation[j], Y_validation[j], predictions[j]))"
      ],
      "execution_count": 15,
      "outputs": [
        {
          "output_type": "stream",
          "text": [
            "\n",
            "Decision Tree\n",
            "Accuracy score : 0.8333333333333334\n",
            "Confusion Matrix \n",
            "[[199  11]\n",
            " [ 29   1]]\n",
            "Report\n",
            "              precision    recall  f1-score   support\n",
            "\n",
            "         0.0       0.87      0.95      0.91       210\n",
            "         1.0       0.08      0.03      0.05        30\n",
            "\n",
            "   micro avg       0.83      0.83      0.83       240\n",
            "   macro avg       0.48      0.49      0.48       240\n",
            "weighted avg       0.77      0.83      0.80       240\n",
            "\n",
            "Wrongly classified\n",
            "[0.4857 0.4743] : 1.0      : (0.0)\n",
            "[0.345 0.34 ] : 1.0      : (0.0)\n",
            "[0.35 0.35] : 1.0      : (0.0)\n",
            "[0.385 0.375] : 1.0      : (0.0)\n",
            "[0.32   0.3114] : 1.0      : (0.0)\n",
            "[0.195 0.195] : 1.0      : (0.0)\n",
            "[0.21 0.21] : 1.0      : (0.0)\n",
            "[0.36  0.355] : 1.0      : (0.0)\n",
            "[0.5057 0.5086] : 0.0      : (1.0)\n",
            "[0.25  0.265] : 1.0      : (0.0)\n",
            "[0.365 0.37 ] : 1.0      : (0.0)\n",
            "[0.3   0.315] : 0.0      : (1.0)\n",
            "[0.235 0.23 ] : 1.0      : (0.0)\n",
            "[0.47 0.46] : 1.0      : (0.0)\n",
            "[0.365 0.365] : 1.0      : (0.0)\n",
            "[0.405 0.46 ] : 1.0      : (0.0)\n",
            "[0.5086 0.5257] : 0.0      : (1.0)\n",
            "[0.255 0.26 ] : 1.0      : (0.0)\n",
            "[0.5514 0.5486] : 0.0      : (1.0)\n",
            "[0.3714 0.3743] : 1.0      : (0.0)\n",
            "[0.37 0.37] : 1.0      : (0.0)\n",
            "[0.4629 0.46  ] : 1.0      : (0.0)\n",
            "[0.4914 0.4943] : 0.0      : (1.0)\n",
            "[0.365 0.36 ] : 1.0      : (0.0)\n",
            "[0.48  0.465] : 0.0      : (1.0)\n",
            "[0.4486 0.4543] : 1.0      : (0.0)\n",
            "[0.5429 0.5543] : 0.0      : (1.0)\n",
            "[0.38  0.375] : 1.0      : (0.0)\n",
            "[0.38  0.375] : 1.0      : (0.0)\n",
            "[0.165 0.17 ] : 1.0      : (0.0)\n",
            "[0.5486 0.5486] : 0.0      : (1.0)\n",
            "[0.3  0.31] : 0.0      : (1.0)\n",
            "[0.25 0.25] : 0.0      : (1.0)\n",
            "[0.41  0.405] : 1.0      : (0.0)\n",
            "[0.39 0.39] : 1.0      : (0.0)\n",
            "[0.155 0.15 ] : 1.0      : (0.0)\n",
            "[0.29 0.29] : 1.0      : (0.0)\n",
            "[0.405 0.41 ] : 1.0      : (0.0)\n",
            "[0.405 0.405] : 1.0      : (0.0)\n",
            "[0.5743 0.5657] : 0.0      : (1.0)\n"
          ],
          "name": "stdout"
        }
      ]
    },
    {
      "cell_type": "code",
      "metadata": {
        "id": "MVMJtmKKbzRn",
        "colab_type": "code",
        "colab": {
          "base_uri": "https://localhost:8080/",
          "height": 875
        },
        "outputId": "ff1b46ff-5300-402f-be7d-0db043a7a42e"
      },
      "source": [
        "#Make predictions by Gaussian Naive Bayes\n",
        "nb = GaussianNB()\n",
        "nb.fit(X_train, Y_train)\n",
        "predictions = nb.predict(X_validation)\n",
        "\n",
        "print('\\nGaussian Naive Bayes')\n",
        "print(\"Accuracy score : {}\".format(accuracy_score(Y_validation, predictions)))\n",
        "print(\"Confusion Matrix \")\n",
        "print(confusion_matrix(Y_validation, predictions))\n",
        "print(\"Report\")\n",
        "print(classification_report(Y_validation, predictions))\n",
        "\n",
        "print(\"Wrongly classified\")\n",
        "for j in range(len(X_validation)):\n",
        "  if Y_validation[j] != predictions[j]:\n",
        "    print(\"{} : {}      : ({})\".format(X_validation[j], Y_validation[j], predictions[j]))\n",
        "\n",
        "    "
      ],
      "execution_count": 17,
      "outputs": [
        {
          "output_type": "stream",
          "text": [
            "\n",
            "Gaussian Naive Bayes\n",
            "Accuracy score : 0.875\n",
            "Confusion Matrix \n",
            "[[210   0]\n",
            " [ 30   0]]\n",
            "Report\n",
            "              precision    recall  f1-score   support\n",
            "\n",
            "         0.0       0.88      1.00      0.93       210\n",
            "         1.0       0.00      0.00      0.00        30\n",
            "\n",
            "   micro avg       0.88      0.88      0.88       240\n",
            "   macro avg       0.44      0.50      0.47       240\n",
            "weighted avg       0.77      0.88      0.82       240\n",
            "\n",
            "Wrongly classified\n",
            "[0.4857 0.4743] : 1.0      : (0.0)\n",
            "[0.345 0.34 ] : 1.0      : (0.0)\n",
            "[0.35 0.35] : 1.0      : (0.0)\n",
            "[0.385 0.375] : 1.0      : (0.0)\n",
            "[0.32   0.3114] : 1.0      : (0.0)\n",
            "[0.195 0.195] : 1.0      : (0.0)\n",
            "[0.21 0.21] : 1.0      : (0.0)\n",
            "[0.36  0.355] : 1.0      : (0.0)\n",
            "[0.25  0.265] : 1.0      : (0.0)\n",
            "[0.365 0.37 ] : 1.0      : (0.0)\n",
            "[0.235 0.23 ] : 1.0      : (0.0)\n",
            "[0.47 0.46] : 1.0      : (0.0)\n",
            "[0.365 0.365] : 1.0      : (0.0)\n",
            "[0.365 0.355] : 1.0      : (0.0)\n",
            "[0.405 0.46 ] : 1.0      : (0.0)\n",
            "[0.255 0.26 ] : 1.0      : (0.0)\n",
            "[0.3714 0.3743] : 1.0      : (0.0)\n",
            "[0.37 0.37] : 1.0      : (0.0)\n",
            "[0.4629 0.46  ] : 1.0      : (0.0)\n",
            "[0.365 0.36 ] : 1.0      : (0.0)\n",
            "[0.4486 0.4543] : 1.0      : (0.0)\n",
            "[0.38  0.375] : 1.0      : (0.0)\n",
            "[0.38  0.375] : 1.0      : (0.0)\n",
            "[0.165 0.17 ] : 1.0      : (0.0)\n",
            "[0.41  0.405] : 1.0      : (0.0)\n",
            "[0.39 0.39] : 1.0      : (0.0)\n",
            "[0.155 0.15 ] : 1.0      : (0.0)\n",
            "[0.29 0.29] : 1.0      : (0.0)\n",
            "[0.405 0.41 ] : 1.0      : (0.0)\n",
            "[0.405 0.405] : 1.0      : (0.0)\n"
          ],
          "name": "stdout"
        },
        {
          "output_type": "stream",
          "text": [
            "/usr/local/lib/python3.6/dist-packages/sklearn/metrics/classification.py:1143: UndefinedMetricWarning: Precision and F-score are ill-defined and being set to 0.0 in labels with no predicted samples.\n",
            "  'precision', 'predicted', average, warn_for)\n"
          ],
          "name": "stderr"
        }
      ]
    },
    {
      "cell_type": "code",
      "metadata": {
        "id": "ZOlKZKmqb3Vx",
        "colab_type": "code",
        "colab": {
          "base_uri": "https://localhost:8080/",
          "height": 875
        },
        "outputId": "96ac6f84-d5e9-4e20-ce19-964214a71962"
      },
      "source": [
        "# Make predictions by SVM\n",
        "svm = SVC(gamma='auto')\n",
        "svm.fit(X_train, Y_train)\n",
        "predictions = svm.predict(X_validation)\n",
        "\n",
        "print('\\nSVM')\n",
        "print(\"Accuracy score : {}\".format(accuracy_score(Y_validation, predictions)))\n",
        "print(\"Confusion Matrix \")\n",
        "print(confusion_matrix(Y_validation, predictions))\n",
        "print(\"Report\")\n",
        "print(classification_report(Y_validation, predictions))\n",
        "\n",
        "print(\"Wrongly classified\")\n",
        "for j in range(len(X_validation)):\n",
        "  if Y_validation[j] != predictions[j]:\n",
        "    print(\"{} : {}      : ({})\".format(X_validation[j], Y_validation[j], predictions[j]))"
      ],
      "execution_count": 18,
      "outputs": [
        {
          "output_type": "stream",
          "text": [
            "\n",
            "SVM\n",
            "Accuracy score : 0.875\n",
            "Confusion Matrix \n",
            "[[210   0]\n",
            " [ 30   0]]\n",
            "Report\n",
            "              precision    recall  f1-score   support\n",
            "\n",
            "         0.0       0.88      1.00      0.93       210\n",
            "         1.0       0.00      0.00      0.00        30\n",
            "\n",
            "   micro avg       0.88      0.88      0.88       240\n",
            "   macro avg       0.44      0.50      0.47       240\n",
            "weighted avg       0.77      0.88      0.82       240\n",
            "\n",
            "Wrongly classified\n",
            "[0.4857 0.4743] : 1.0      : (0.0)\n",
            "[0.345 0.34 ] : 1.0      : (0.0)\n",
            "[0.35 0.35] : 1.0      : (0.0)\n",
            "[0.385 0.375] : 1.0      : (0.0)\n",
            "[0.32   0.3114] : 1.0      : (0.0)\n",
            "[0.195 0.195] : 1.0      : (0.0)\n",
            "[0.21 0.21] : 1.0      : (0.0)\n",
            "[0.36  0.355] : 1.0      : (0.0)\n",
            "[0.25  0.265] : 1.0      : (0.0)\n",
            "[0.365 0.37 ] : 1.0      : (0.0)\n",
            "[0.235 0.23 ] : 1.0      : (0.0)\n",
            "[0.47 0.46] : 1.0      : (0.0)\n",
            "[0.365 0.365] : 1.0      : (0.0)\n",
            "[0.365 0.355] : 1.0      : (0.0)\n",
            "[0.405 0.46 ] : 1.0      : (0.0)\n",
            "[0.255 0.26 ] : 1.0      : (0.0)\n",
            "[0.3714 0.3743] : 1.0      : (0.0)\n",
            "[0.37 0.37] : 1.0      : (0.0)\n",
            "[0.4629 0.46  ] : 1.0      : (0.0)\n",
            "[0.365 0.36 ] : 1.0      : (0.0)\n",
            "[0.4486 0.4543] : 1.0      : (0.0)\n",
            "[0.38  0.375] : 1.0      : (0.0)\n",
            "[0.38  0.375] : 1.0      : (0.0)\n",
            "[0.165 0.17 ] : 1.0      : (0.0)\n",
            "[0.41  0.405] : 1.0      : (0.0)\n",
            "[0.39 0.39] : 1.0      : (0.0)\n",
            "[0.155 0.15 ] : 1.0      : (0.0)\n",
            "[0.29 0.29] : 1.0      : (0.0)\n",
            "[0.405 0.41 ] : 1.0      : (0.0)\n",
            "[0.405 0.405] : 1.0      : (0.0)\n"
          ],
          "name": "stdout"
        },
        {
          "output_type": "stream",
          "text": [
            "/usr/local/lib/python3.6/dist-packages/sklearn/metrics/classification.py:1143: UndefinedMetricWarning: Precision and F-score are ill-defined and being set to 0.0 in labels with no predicted samples.\n",
            "  'precision', 'predicted', average, warn_for)\n"
          ],
          "name": "stderr"
        }
      ]
    },
    {
      "cell_type": "code",
      "metadata": {
        "id": "gDZH8pMgb8kc",
        "colab_type": "code",
        "colab": {}
      },
      "source": [
        ""
      ],
      "execution_count": 0,
      "outputs": []
    }
  ]
}
